{
 "nbformat": 4,
 "nbformat_minor": 2,
 "metadata": {
  "language_info": {
   "name": "python",
   "codemirror_mode": {
    "name": "ipython",
    "version": 3
   },
   "version": "3.7.5-final"
  },
  "orig_nbformat": 2,
  "file_extension": ".py",
  "mimetype": "text/x-python",
  "name": "python",
  "npconvert_exporter": "python",
  "pygments_lexer": "ipython3",
  "version": 3,
  "kernelspec": {
   "name": "python37564bitenvtf2venveb0ac7e4b356417abf1ab8651976bc27",
   "display_name": "Python 3.7.5 64-bit ('env-tf2': venv)"
  }
 },
 "cells": [
  {
   "cell_type": "code",
   "execution_count": 3,
   "metadata": {},
   "outputs": [
    {
     "data": {
      "text/html": "<div>\n<style scoped>\n    .dataframe tbody tr th:only-of-type {\n        vertical-align: middle;\n    }\n\n    .dataframe tbody tr th {\n        vertical-align: top;\n    }\n\n    .dataframe thead th {\n        text-align: right;\n    }\n</style>\n<table border=\"1\" class=\"dataframe\">\n  <thead>\n    <tr style=\"text-align: right;\">\n      <th></th>\n      <th>#</th>\n      <th>Name</th>\n      <th>Type 1</th>\n      <th>Type 2</th>\n      <th>HP</th>\n      <th>Attack</th>\n      <th>Defense</th>\n      <th>Sp. Atk</th>\n      <th>Sp. Def</th>\n      <th>Speed</th>\n      <th>Generation</th>\n      <th>Legendary</th>\n    </tr>\n  </thead>\n  <tbody>\n    <tr>\n      <th>0</th>\n      <td>1</td>\n      <td>Bulbasaur</td>\n      <td>Grass</td>\n      <td>Poison</td>\n      <td>45</td>\n      <td>49</td>\n      <td>49</td>\n      <td>65</td>\n      <td>65</td>\n      <td>45</td>\n      <td>1</td>\n      <td>False</td>\n    </tr>\n    <tr>\n      <th>1</th>\n      <td>2</td>\n      <td>Ivysaur</td>\n      <td>Grass</td>\n      <td>Poison</td>\n      <td>60</td>\n      <td>62</td>\n      <td>63</td>\n      <td>80</td>\n      <td>80</td>\n      <td>60</td>\n      <td>1</td>\n      <td>False</td>\n    </tr>\n    <tr>\n      <th>2</th>\n      <td>3</td>\n      <td>Venusaur</td>\n      <td>Grass</td>\n      <td>Poison</td>\n      <td>80</td>\n      <td>82</td>\n      <td>83</td>\n      <td>100</td>\n      <td>100</td>\n      <td>80</td>\n      <td>1</td>\n      <td>False</td>\n    </tr>\n    <tr>\n      <th>3</th>\n      <td>3</td>\n      <td>VenusaurMega Venusaur</td>\n      <td>Grass</td>\n      <td>Poison</td>\n      <td>80</td>\n      <td>100</td>\n      <td>123</td>\n      <td>122</td>\n      <td>120</td>\n      <td>80</td>\n      <td>1</td>\n      <td>False</td>\n    </tr>\n    <tr>\n      <th>4</th>\n      <td>4</td>\n      <td>Charmander</td>\n      <td>Fire</td>\n      <td>NaN</td>\n      <td>39</td>\n      <td>52</td>\n      <td>43</td>\n      <td>60</td>\n      <td>50</td>\n      <td>65</td>\n      <td>1</td>\n      <td>False</td>\n    </tr>\n  </tbody>\n</table>\n</div>",
      "text/plain": "   #                   Name Type 1  Type 2  HP  Attack  Defense  Sp. Atk  \\\n0  1              Bulbasaur  Grass  Poison  45      49       49       65   \n1  2                Ivysaur  Grass  Poison  60      62       63       80   \n2  3               Venusaur  Grass  Poison  80      82       83      100   \n3  3  VenusaurMega Venusaur  Grass  Poison  80     100      123      122   \n4  4             Charmander   Fire     NaN  39      52       43       60   \n\n   Sp. Def  Speed  Generation  Legendary  \n0       65     45           1      False  \n1       80     60           1      False  \n2      100     80           1      False  \n3      120     80           1      False  \n4       50     65           1      False  "
     },
     "execution_count": 3,
     "metadata": {},
     "output_type": "execute_result"
    }
   ],
   "source": [
    "import pandas as pd\n",
    "df = pd.read_csv('./pokemon_data.csv')\n",
    "df.head(5)"
   ]
  },
  {
   "cell_type": "code",
   "execution_count": 33,
   "metadata": {},
   "outputs": [
    {
     "data": {
      "text/html": "<div>\n<style scoped>\n    .dataframe tbody tr th:only-of-type {\n        vertical-align: middle;\n    }\n\n    .dataframe tbody tr th {\n        vertical-align: top;\n    }\n\n    .dataframe thead th {\n        text-align: right;\n    }\n</style>\n<table border=\"1\" class=\"dataframe\">\n  <thead>\n    <tr style=\"text-align: right;\">\n      <th></th>\n      <th>#</th>\n      <th>Name</th>\n      <th>Type 1</th>\n      <th>Type 2</th>\n      <th>HP</th>\n      <th>Attack</th>\n      <th>Defense</th>\n      <th>Sp. Atk</th>\n      <th>Sp. Def</th>\n      <th>Speed</th>\n      <th>Generation</th>\n      <th>Legendary</th>\n    </tr>\n  </thead>\n  <tbody>\n    <tr>\n      <th>1</th>\n      <td>2</td>\n      <td>Ivysaur</td>\n      <td>Grass</td>\n      <td>Poison</td>\n      <td>60</td>\n      <td>62</td>\n      <td>63</td>\n      <td>80</td>\n      <td>80</td>\n      <td>60</td>\n      <td>1</td>\n      <td>False</td>\n    </tr>\n    <tr>\n      <th>2</th>\n      <td>3</td>\n      <td>Venusaur</td>\n      <td>Grass</td>\n      <td>Poison</td>\n      <td>80</td>\n      <td>82</td>\n      <td>83</td>\n      <td>100</td>\n      <td>100</td>\n      <td>80</td>\n      <td>1</td>\n      <td>False</td>\n    </tr>\n    <tr>\n      <th>3</th>\n      <td>3</td>\n      <td>VenusaurMega Venusaur</td>\n      <td>Grass</td>\n      <td>Poison</td>\n      <td>80</td>\n      <td>100</td>\n      <td>123</td>\n      <td>122</td>\n      <td>120</td>\n      <td>80</td>\n      <td>1</td>\n      <td>False</td>\n    </tr>\n  </tbody>\n</table>\n</div>",
      "text/plain": "   #                   Name Type 1  Type 2  HP  Attack  Defense  Sp. Atk  \\\n1  2                Ivysaur  Grass  Poison  60      62       63       80   \n2  3               Venusaur  Grass  Poison  80      82       83      100   \n3  3  VenusaurMega Venusaur  Grass  Poison  80     100      123      122   \n\n   Sp. Def  Speed  Generation  Legendary  \n1       80     60           1      False  \n2      100     80           1      False  \n3      120     80           1      False  "
     },
     "execution_count": 33,
     "metadata": {},
     "output_type": "execute_result"
    }
   ],
   "source": [
    "df[1:4]"
   ]
  },
  {
   "cell_type": "code",
   "execution_count": 34,
   "metadata": {},
   "outputs": [
    {
     "data": {
      "text/plain": "'Venusaur'"
     },
     "execution_count": 34,
     "metadata": {},
     "output_type": "execute_result"
    }
   ],
   "source": [
    "df.iloc[2,1]"
   ]
  },
  {
   "cell_type": "code",
   "execution_count": 39,
   "metadata": {},
   "outputs": [
    {
     "name": "stdout",
     "output_type": "stream",
     "text": "0 Bulbasaur 45\n1 Ivysaur 60\n2 Venusaur 80\n"
    }
   ],
   "source": [
    "for index, row in df[:3].iterrows():\n",
    "    print(index, row[1], row[4])"
   ]
  },
  {
   "cell_type": "code",
   "execution_count": 44,
   "metadata": {},
   "outputs": [
    {
     "data": {
      "text/html": "<div>\n<style scoped>\n    .dataframe tbody tr th:only-of-type {\n        vertical-align: middle;\n    }\n\n    .dataframe tbody tr th {\n        vertical-align: top;\n    }\n\n    .dataframe thead th {\n        text-align: right;\n    }\n</style>\n<table border=\"1\" class=\"dataframe\">\n  <thead>\n    <tr style=\"text-align: right;\">\n      <th></th>\n      <th>#</th>\n      <th>HP</th>\n      <th>Attack</th>\n      <th>Defense</th>\n      <th>Sp. Atk</th>\n      <th>Sp. Def</th>\n      <th>Speed</th>\n      <th>Generation</th>\n      <th>Legendary</th>\n    </tr>\n    <tr>\n      <th>Type 1</th>\n      <th></th>\n      <th></th>\n      <th></th>\n      <th></th>\n      <th></th>\n      <th></th>\n      <th></th>\n      <th></th>\n      <th></th>\n    </tr>\n  </thead>\n  <tbody>\n    <tr>\n      <th>Dragon</th>\n      <td>474.375000</td>\n      <td>83.312500</td>\n      <td>112.125000</td>\n      <td>86.375000</td>\n      <td>96.843750</td>\n      <td>88.843750</td>\n      <td>83.031250</td>\n      <td>3.875000</td>\n      <td>0.375000</td>\n    </tr>\n    <tr>\n      <th>Normal</th>\n      <td>319.173469</td>\n      <td>77.275510</td>\n      <td>73.469388</td>\n      <td>59.846939</td>\n      <td>55.816327</td>\n      <td>63.724490</td>\n      <td>71.551020</td>\n      <td>3.051020</td>\n      <td>0.020408</td>\n    </tr>\n    <tr>\n      <th>Fairy</th>\n      <td>449.529412</td>\n      <td>74.117647</td>\n      <td>61.529412</td>\n      <td>65.705882</td>\n      <td>78.529412</td>\n      <td>84.705882</td>\n      <td>48.588235</td>\n      <td>4.117647</td>\n      <td>0.058824</td>\n    </tr>\n    <tr>\n      <th>Ground</th>\n      <td>356.281250</td>\n      <td>73.781250</td>\n      <td>95.750000</td>\n      <td>84.843750</td>\n      <td>56.468750</td>\n      <td>62.750000</td>\n      <td>63.906250</td>\n      <td>3.156250</td>\n      <td>0.125000</td>\n    </tr>\n    <tr>\n      <th>Water</th>\n      <td>303.089286</td>\n      <td>72.062500</td>\n      <td>74.151786</td>\n      <td>72.946429</td>\n      <td>74.812500</td>\n      <td>70.517857</td>\n      <td>65.964286</td>\n      <td>2.857143</td>\n      <td>0.035714</td>\n    </tr>\n    <tr>\n      <th>Ice</th>\n      <td>423.541667</td>\n      <td>72.000000</td>\n      <td>72.750000</td>\n      <td>71.416667</td>\n      <td>77.541667</td>\n      <td>76.291667</td>\n      <td>63.458333</td>\n      <td>3.541667</td>\n      <td>0.083333</td>\n    </tr>\n    <tr>\n      <th>Flying</th>\n      <td>677.750000</td>\n      <td>70.750000</td>\n      <td>78.750000</td>\n      <td>66.250000</td>\n      <td>94.250000</td>\n      <td>72.500000</td>\n      <td>102.500000</td>\n      <td>5.500000</td>\n      <td>0.500000</td>\n    </tr>\n    <tr>\n      <th>Psychic</th>\n      <td>380.807018</td>\n      <td>70.631579</td>\n      <td>71.456140</td>\n      <td>67.684211</td>\n      <td>98.403509</td>\n      <td>86.280702</td>\n      <td>81.491228</td>\n      <td>3.385965</td>\n      <td>0.245614</td>\n    </tr>\n    <tr>\n      <th>Flamer</th>\n      <td>327.403846</td>\n      <td>69.903846</td>\n      <td>84.769231</td>\n      <td>67.769231</td>\n      <td>88.980769</td>\n      <td>72.211538</td>\n      <td>74.442308</td>\n      <td>3.211538</td>\n      <td>0.096154</td>\n    </tr>\n    <tr>\n      <th>Fighting</th>\n      <td>363.851852</td>\n      <td>69.851852</td>\n      <td>96.777778</td>\n      <td>65.925926</td>\n      <td>53.111111</td>\n      <td>64.703704</td>\n      <td>66.074074</td>\n      <td>3.370370</td>\n      <td>0.000000</td>\n    </tr>\n    <tr>\n      <th>Grass</th>\n      <td>344.871429</td>\n      <td>67.271429</td>\n      <td>73.214286</td>\n      <td>70.800000</td>\n      <td>77.500000</td>\n      <td>70.428571</td>\n      <td>61.928571</td>\n      <td>3.357143</td>\n      <td>0.042857</td>\n    </tr>\n    <tr>\n      <th>Poison</th>\n      <td>251.785714</td>\n      <td>67.250000</td>\n      <td>74.678571</td>\n      <td>68.821429</td>\n      <td>60.428571</td>\n      <td>64.392857</td>\n      <td>63.571429</td>\n      <td>2.535714</td>\n      <td>0.000000</td>\n    </tr>\n    <tr>\n      <th>Dark</th>\n      <td>461.354839</td>\n      <td>66.806452</td>\n      <td>88.387097</td>\n      <td>70.225806</td>\n      <td>74.645161</td>\n      <td>69.516129</td>\n      <td>76.161290</td>\n      <td>4.032258</td>\n      <td>0.064516</td>\n    </tr>\n    <tr>\n      <th>Rock</th>\n      <td>392.727273</td>\n      <td>65.363636</td>\n      <td>92.863636</td>\n      <td>100.795455</td>\n      <td>63.340909</td>\n      <td>75.477273</td>\n      <td>55.909091</td>\n      <td>3.454545</td>\n      <td>0.090909</td>\n    </tr>\n    <tr>\n      <th>Steel</th>\n      <td>442.851852</td>\n      <td>65.222222</td>\n      <td>92.703704</td>\n      <td>126.370370</td>\n      <td>67.518519</td>\n      <td>80.629630</td>\n      <td>55.259259</td>\n      <td>3.851852</td>\n      <td>0.148148</td>\n    </tr>\n    <tr>\n      <th>Ghost</th>\n      <td>486.500000</td>\n      <td>64.437500</td>\n      <td>73.781250</td>\n      <td>81.187500</td>\n      <td>79.343750</td>\n      <td>76.468750</td>\n      <td>64.343750</td>\n      <td>4.187500</td>\n      <td>0.062500</td>\n    </tr>\n    <tr>\n      <th>Electric</th>\n      <td>363.500000</td>\n      <td>59.795455</td>\n      <td>69.090909</td>\n      <td>66.295455</td>\n      <td>90.022727</td>\n      <td>73.704545</td>\n      <td>84.500000</td>\n      <td>3.272727</td>\n      <td>0.090909</td>\n    </tr>\n    <tr>\n      <th>Bug</th>\n      <td>334.492754</td>\n      <td>56.884058</td>\n      <td>70.971014</td>\n      <td>70.724638</td>\n      <td>53.869565</td>\n      <td>64.797101</td>\n      <td>61.681159</td>\n      <td>3.217391</td>\n      <td>0.000000</td>\n    </tr>\n  </tbody>\n</table>\n</div>",
      "text/plain": "                   #         HP      Attack     Defense    Sp. Atk    Sp. Def  \\\nType 1                                                                          \nDragon    474.375000  83.312500  112.125000   86.375000  96.843750  88.843750   \nNormal    319.173469  77.275510   73.469388   59.846939  55.816327  63.724490   \nFairy     449.529412  74.117647   61.529412   65.705882  78.529412  84.705882   \nGround    356.281250  73.781250   95.750000   84.843750  56.468750  62.750000   \nWater     303.089286  72.062500   74.151786   72.946429  74.812500  70.517857   \nIce       423.541667  72.000000   72.750000   71.416667  77.541667  76.291667   \nFlying    677.750000  70.750000   78.750000   66.250000  94.250000  72.500000   \nPsychic   380.807018  70.631579   71.456140   67.684211  98.403509  86.280702   \nFlamer    327.403846  69.903846   84.769231   67.769231  88.980769  72.211538   \nFighting  363.851852  69.851852   96.777778   65.925926  53.111111  64.703704   \nGrass     344.871429  67.271429   73.214286   70.800000  77.500000  70.428571   \nPoison    251.785714  67.250000   74.678571   68.821429  60.428571  64.392857   \nDark      461.354839  66.806452   88.387097   70.225806  74.645161  69.516129   \nRock      392.727273  65.363636   92.863636  100.795455  63.340909  75.477273   \nSteel     442.851852  65.222222   92.703704  126.370370  67.518519  80.629630   \nGhost     486.500000  64.437500   73.781250   81.187500  79.343750  76.468750   \nElectric  363.500000  59.795455   69.090909   66.295455  90.022727  73.704545   \nBug       334.492754  56.884058   70.971014   70.724638  53.869565  64.797101   \n\n               Speed  Generation  Legendary  \nType 1                                       \nDragon     83.031250    3.875000   0.375000  \nNormal     71.551020    3.051020   0.020408  \nFairy      48.588235    4.117647   0.058824  \nGround     63.906250    3.156250   0.125000  \nWater      65.964286    2.857143   0.035714  \nIce        63.458333    3.541667   0.083333  \nFlying    102.500000    5.500000   0.500000  \nPsychic    81.491228    3.385965   0.245614  \nFlamer     74.442308    3.211538   0.096154  \nFighting   66.074074    3.370370   0.000000  \nGrass      61.928571    3.357143   0.042857  \nPoison     63.571429    2.535714   0.000000  \nDark       76.161290    4.032258   0.064516  \nRock       55.909091    3.454545   0.090909  \nSteel      55.259259    3.851852   0.148148  \nGhost      64.343750    4.187500   0.062500  \nElectric   84.500000    3.272727   0.090909  \nBug        61.681159    3.217391   0.000000  "
     },
     "execution_count": 44,
     "metadata": {},
     "output_type": "execute_result"
    }
   ],
   "source": [
    "# df.loc[df['HP'] > 200]\n",
    "# df.loc[(df['Speed'] == 50) & (df['Legendary'] == True)]\n",
    "# df.loc[~(df['Name'].str.find('Mega') != -1)]\n",
    "\n",
    "# import re\n",
    "# df.loc[df['Name'].str.contains('Mega|Ivysaur', flags=re.I, regex=True)]\n",
    "\n",
    "# df.loc[df['Type 1'] == 'Fire', 'Type 1'] = 'Flamer'\n",
    "# df.loc[df['Type 1'] == 'Flamer']\n",
    "\n",
    "df.groupby(['Type 1']).mean().sort_values('HP', ascending=False)\n"
   ]
  },
  {
   "cell_type": "code",
   "execution_count": 8,
   "metadata": {},
   "outputs": [
    {
     "data": {
      "text/html": "<div>\n<style scoped>\n    .dataframe tbody tr th:only-of-type {\n        vertical-align: middle;\n    }\n\n    .dataframe tbody tr th {\n        vertical-align: top;\n    }\n\n    .dataframe thead th {\n        text-align: right;\n    }\n</style>\n<table border=\"1\" class=\"dataframe\">\n  <thead>\n    <tr style=\"text-align: right;\">\n      <th></th>\n      <th>#</th>\n      <th>HP</th>\n      <th>Attack</th>\n      <th>Defense</th>\n      <th>Sp. Atk</th>\n      <th>Sp. Def</th>\n      <th>Speed</th>\n      <th>Generation</th>\n    </tr>\n  </thead>\n  <tbody>\n    <tr>\n      <th>count</th>\n      <td>800.000000</td>\n      <td>800.000000</td>\n      <td>800.000000</td>\n      <td>800.000000</td>\n      <td>800.000000</td>\n      <td>800.000000</td>\n      <td>800.000000</td>\n      <td>800.00000</td>\n    </tr>\n    <tr>\n      <th>mean</th>\n      <td>362.813750</td>\n      <td>69.258750</td>\n      <td>79.001250</td>\n      <td>73.842500</td>\n      <td>72.820000</td>\n      <td>71.902500</td>\n      <td>68.277500</td>\n      <td>3.32375</td>\n    </tr>\n    <tr>\n      <th>std</th>\n      <td>208.343798</td>\n      <td>25.534669</td>\n      <td>32.457366</td>\n      <td>31.183501</td>\n      <td>32.722294</td>\n      <td>27.828916</td>\n      <td>29.060474</td>\n      <td>1.66129</td>\n    </tr>\n    <tr>\n      <th>min</th>\n      <td>1.000000</td>\n      <td>1.000000</td>\n      <td>5.000000</td>\n      <td>5.000000</td>\n      <td>10.000000</td>\n      <td>20.000000</td>\n      <td>5.000000</td>\n      <td>1.00000</td>\n    </tr>\n    <tr>\n      <th>25%</th>\n      <td>184.750000</td>\n      <td>50.000000</td>\n      <td>55.000000</td>\n      <td>50.000000</td>\n      <td>49.750000</td>\n      <td>50.000000</td>\n      <td>45.000000</td>\n      <td>2.00000</td>\n    </tr>\n    <tr>\n      <th>50%</th>\n      <td>364.500000</td>\n      <td>65.000000</td>\n      <td>75.000000</td>\n      <td>70.000000</td>\n      <td>65.000000</td>\n      <td>70.000000</td>\n      <td>65.000000</td>\n      <td>3.00000</td>\n    </tr>\n    <tr>\n      <th>75%</th>\n      <td>539.250000</td>\n      <td>80.000000</td>\n      <td>100.000000</td>\n      <td>90.000000</td>\n      <td>95.000000</td>\n      <td>90.000000</td>\n      <td>90.000000</td>\n      <td>5.00000</td>\n    </tr>\n    <tr>\n      <th>max</th>\n      <td>721.000000</td>\n      <td>255.000000</td>\n      <td>190.000000</td>\n      <td>230.000000</td>\n      <td>194.000000</td>\n      <td>230.000000</td>\n      <td>180.000000</td>\n      <td>6.00000</td>\n    </tr>\n  </tbody>\n</table>\n</div>",
      "text/plain": "                #          HP      Attack     Defense     Sp. Atk     Sp. Def  \\\ncount  800.000000  800.000000  800.000000  800.000000  800.000000  800.000000   \nmean   362.813750   69.258750   79.001250   73.842500   72.820000   71.902500   \nstd    208.343798   25.534669   32.457366   31.183501   32.722294   27.828916   \nmin      1.000000    1.000000    5.000000    5.000000   10.000000   20.000000   \n25%    184.750000   50.000000   55.000000   50.000000   49.750000   50.000000   \n50%    364.500000   65.000000   75.000000   70.000000   65.000000   70.000000   \n75%    539.250000   80.000000  100.000000   90.000000   95.000000   90.000000   \nmax    721.000000  255.000000  190.000000  230.000000  194.000000  230.000000   \n\n            Speed  Generation  \ncount  800.000000   800.00000  \nmean    68.277500     3.32375  \nstd     29.060474     1.66129  \nmin      5.000000     1.00000  \n25%     45.000000     2.00000  \n50%     65.000000     3.00000  \n75%     90.000000     5.00000  \nmax    180.000000     6.00000  "
     },
     "execution_count": 8,
     "metadata": {},
     "output_type": "execute_result"
    }
   ],
   "source": [
    "df.describe()"
   ]
  },
  {
   "cell_type": "code",
   "execution_count": 52,
   "metadata": {},
   "outputs": [
    {
     "data": {
      "text/html": "<div>\n<style scoped>\n    .dataframe tbody tr th:only-of-type {\n        vertical-align: middle;\n    }\n\n    .dataframe tbody tr th {\n        vertical-align: top;\n    }\n\n    .dataframe thead th {\n        text-align: right;\n    }\n</style>\n<table border=\"1\" class=\"dataframe\">\n  <thead>\n    <tr style=\"text-align: right;\">\n      <th></th>\n      <th>#</th>\n      <th>Name</th>\n      <th>Type 1</th>\n      <th>Type 2</th>\n      <th>HP</th>\n      <th>Attack</th>\n      <th>Defense</th>\n      <th>Sp. Atk</th>\n      <th>Sp. Def</th>\n      <th>Speed</th>\n      <th>Generation</th>\n      <th>Legendary</th>\n    </tr>\n  </thead>\n  <tbody>\n    <tr>\n      <th>163</th>\n      <td>150</td>\n      <td>MewtwoMega Mewtwo X</td>\n      <td>Psychic</td>\n      <td>Fighting</td>\n      <td>106</td>\n      <td>190</td>\n      <td>100</td>\n      <td>154</td>\n      <td>100</td>\n      <td>130</td>\n      <td>1</td>\n      <td>True</td>\n    </tr>\n    <tr>\n      <th>232</th>\n      <td>214</td>\n      <td>HeracrossMega Heracross</td>\n      <td>Bug</td>\n      <td>Fighting</td>\n      <td>80</td>\n      <td>185</td>\n      <td>115</td>\n      <td>40</td>\n      <td>105</td>\n      <td>75</td>\n      <td>2</td>\n      <td>False</td>\n    </tr>\n    <tr>\n      <th>424</th>\n      <td>383</td>\n      <td>GroudonPrimal Groudon</td>\n      <td>Ground</td>\n      <td>Fire</td>\n      <td>100</td>\n      <td>180</td>\n      <td>160</td>\n      <td>150</td>\n      <td>90</td>\n      <td>90</td>\n      <td>3</td>\n      <td>True</td>\n    </tr>\n    <tr>\n      <th>426</th>\n      <td>384</td>\n      <td>RayquazaMega Rayquaza</td>\n      <td>Dragon</td>\n      <td>Flying</td>\n      <td>105</td>\n      <td>180</td>\n      <td>100</td>\n      <td>180</td>\n      <td>100</td>\n      <td>115</td>\n      <td>3</td>\n      <td>True</td>\n    </tr>\n    <tr>\n      <th>429</th>\n      <td>386</td>\n      <td>DeoxysAttack Forme</td>\n      <td>Psychic</td>\n      <td>NaN</td>\n      <td>50</td>\n      <td>180</td>\n      <td>20</td>\n      <td>180</td>\n      <td>20</td>\n      <td>150</td>\n      <td>3</td>\n      <td>True</td>\n    </tr>\n    <tr>\n      <th>...</th>\n      <td>...</td>\n      <td>...</td>\n      <td>...</td>\n      <td>...</td>\n      <td>...</td>\n      <td>...</td>\n      <td>...</td>\n      <td>...</td>\n      <td>...</td>\n      <td>...</td>\n      <td>...</td>\n      <td>...</td>\n    </tr>\n    <tr>\n      <th>230</th>\n      <td>213</td>\n      <td>Shuckle</td>\n      <td>Bug</td>\n      <td>Rock</td>\n      <td>20</td>\n      <td>10</td>\n      <td>230</td>\n      <td>10</td>\n      <td>230</td>\n      <td>5</td>\n      <td>2</td>\n      <td>False</td>\n    </tr>\n    <tr>\n      <th>139</th>\n      <td>129</td>\n      <td>Magikarp</td>\n      <td>Water</td>\n      <td>NaN</td>\n      <td>20</td>\n      <td>10</td>\n      <td>55</td>\n      <td>15</td>\n      <td>20</td>\n      <td>80</td>\n      <td>1</td>\n      <td>False</td>\n    </tr>\n    <tr>\n      <th>261</th>\n      <td>242</td>\n      <td>Blissey</td>\n      <td>Normal</td>\n      <td>NaN</td>\n      <td>255</td>\n      <td>10</td>\n      <td>10</td>\n      <td>75</td>\n      <td>135</td>\n      <td>55</td>\n      <td>2</td>\n      <td>False</td>\n    </tr>\n    <tr>\n      <th>121</th>\n      <td>113</td>\n      <td>Chansey</td>\n      <td>Normal</td>\n      <td>NaN</td>\n      <td>250</td>\n      <td>5</td>\n      <td>5</td>\n      <td>35</td>\n      <td>105</td>\n      <td>50</td>\n      <td>1</td>\n      <td>False</td>\n    </tr>\n    <tr>\n      <th>488</th>\n      <td>440</td>\n      <td>Happiny</td>\n      <td>Normal</td>\n      <td>NaN</td>\n      <td>100</td>\n      <td>5</td>\n      <td>5</td>\n      <td>15</td>\n      <td>65</td>\n      <td>30</td>\n      <td>4</td>\n      <td>False</td>\n    </tr>\n  </tbody>\n</table>\n<p>800 rows × 12 columns</p>\n</div>",
      "text/plain": "       #                     Name   Type 1    Type 2   HP  Attack  Defense  \\\n163  150      MewtwoMega Mewtwo X  Psychic  Fighting  106     190      100   \n232  214  HeracrossMega Heracross      Bug  Fighting   80     185      115   \n424  383    GroudonPrimal Groudon   Ground      Fire  100     180      160   \n426  384    RayquazaMega Rayquaza   Dragon    Flying  105     180      100   \n429  386       DeoxysAttack Forme  Psychic       NaN   50     180       20   \n..   ...                      ...      ...       ...  ...     ...      ...   \n230  213                  Shuckle      Bug      Rock   20      10      230   \n139  129                 Magikarp    Water       NaN   20      10       55   \n261  242                  Blissey   Normal       NaN  255      10       10   \n121  113                  Chansey   Normal       NaN  250       5        5   \n488  440                  Happiny   Normal       NaN  100       5        5   \n\n     Sp. Atk  Sp. Def  Speed  Generation  Legendary  \n163      154      100    130           1       True  \n232       40      105     75           2      False  \n424      150       90     90           3       True  \n426      180      100    115           3       True  \n429      180       20    150           3       True  \n..       ...      ...    ...         ...        ...  \n230       10      230      5           2      False  \n139       15       20     80           1      False  \n261       75      135     55           2      False  \n121       35      105     50           1      False  \n488       15       65     30           4      False  \n\n[800 rows x 12 columns]"
     },
     "execution_count": 52,
     "metadata": {},
     "output_type": "execute_result"
    }
   ],
   "source": [
    "df.sort_values(['Attack', 'Defense', 'HP'], ascending=False)"
   ]
  },
  {
   "cell_type": "code",
   "execution_count": 86,
   "metadata": {},
   "outputs": [],
   "source": [
    "df['Total'] = df.iloc[:, 5:7].sum(axis=1)   # 横轴列[\"Attack\",\"Defense\"]相加\n",
    "# df['Total'] = df['Attack'] + df['Defense']"
   ]
  },
  {
   "cell_type": "code",
   "execution_count": 57,
   "metadata": {},
   "outputs": [
    {
     "data": {
      "text/html": "<div>\n<style scoped>\n    .dataframe tbody tr th:only-of-type {\n        vertical-align: middle;\n    }\n\n    .dataframe tbody tr th {\n        vertical-align: top;\n    }\n\n    .dataframe thead th {\n        text-align: right;\n    }\n</style>\n<table border=\"1\" class=\"dataframe\">\n  <thead>\n    <tr style=\"text-align: right;\">\n      <th></th>\n      <th>#</th>\n      <th>Name</th>\n      <th>Type 1</th>\n      <th>Type 2</th>\n      <th>HP</th>\n      <th>Attack</th>\n      <th>Defense</th>\n      <th>Sp. Atk</th>\n      <th>Sp. Def</th>\n      <th>Speed</th>\n      <th>Generation</th>\n      <th>Legendary</th>\n      <th>Total</th>\n    </tr>\n  </thead>\n  <tbody>\n    <tr>\n      <th>0</th>\n      <td>1</td>\n      <td>Bulbasaur</td>\n      <td>Grass</td>\n      <td>Poison</td>\n      <td>45</td>\n      <td>49</td>\n      <td>49</td>\n      <td>65</td>\n      <td>65</td>\n      <td>45</td>\n      <td>1</td>\n      <td>False</td>\n      <td>98</td>\n    </tr>\n    <tr>\n      <th>1</th>\n      <td>2</td>\n      <td>Ivysaur</td>\n      <td>Grass</td>\n      <td>Poison</td>\n      <td>60</td>\n      <td>62</td>\n      <td>63</td>\n      <td>80</td>\n      <td>80</td>\n      <td>60</td>\n      <td>1</td>\n      <td>False</td>\n      <td>125</td>\n    </tr>\n    <tr>\n      <th>2</th>\n      <td>3</td>\n      <td>Venusaur</td>\n      <td>Grass</td>\n      <td>Poison</td>\n      <td>80</td>\n      <td>82</td>\n      <td>83</td>\n      <td>100</td>\n      <td>100</td>\n      <td>80</td>\n      <td>1</td>\n      <td>False</td>\n      <td>165</td>\n    </tr>\n    <tr>\n      <th>3</th>\n      <td>3</td>\n      <td>VenusaurMega Venusaur</td>\n      <td>Grass</td>\n      <td>Poison</td>\n      <td>80</td>\n      <td>100</td>\n      <td>123</td>\n      <td>122</td>\n      <td>120</td>\n      <td>80</td>\n      <td>1</td>\n      <td>False</td>\n      <td>223</td>\n    </tr>\n    <tr>\n      <th>4</th>\n      <td>4</td>\n      <td>Charmander</td>\n      <td>Fire</td>\n      <td>NaN</td>\n      <td>39</td>\n      <td>52</td>\n      <td>43</td>\n      <td>60</td>\n      <td>50</td>\n      <td>65</td>\n      <td>1</td>\n      <td>False</td>\n      <td>95</td>\n    </tr>\n  </tbody>\n</table>\n</div>",
      "text/plain": "   #                   Name Type 1  Type 2  HP  Attack  Defense  Sp. Atk  \\\n0  1              Bulbasaur  Grass  Poison  45      49       49       65   \n1  2                Ivysaur  Grass  Poison  60      62       63       80   \n2  3               Venusaur  Grass  Poison  80      82       83      100   \n3  3  VenusaurMega Venusaur  Grass  Poison  80     100      123      122   \n4  4             Charmander   Fire     NaN  39      52       43       60   \n\n   Sp. Def  Speed  Generation  Legendary  Total  \n0       65     45           1      False     98  \n1       80     60           1      False    125  \n2      100     80           1      False    165  \n3      120     80           1      False    223  \n4       50     65           1      False     95  "
     },
     "execution_count": 57,
     "metadata": {},
     "output_type": "execute_result"
    }
   ],
   "source": [
    "df.head(5)"
   ]
  },
  {
   "cell_type": "code",
   "execution_count": 59,
   "metadata": {},
   "outputs": [
    {
     "data": {
      "text/html": "<div>\n<style scoped>\n    .dataframe tbody tr th:only-of-type {\n        vertical-align: middle;\n    }\n\n    .dataframe tbody tr th {\n        vertical-align: top;\n    }\n\n    .dataframe thead th {\n        text-align: right;\n    }\n</style>\n<table border=\"1\" class=\"dataframe\">\n  <thead>\n    <tr style=\"text-align: right;\">\n      <th></th>\n      <th>#</th>\n      <th>Name</th>\n      <th>Type 1</th>\n      <th>Type 2</th>\n      <th>HP</th>\n      <th>Attack</th>\n      <th>Defense</th>\n      <th>Sp. Atk</th>\n      <th>Sp. Def</th>\n      <th>Speed</th>\n      <th>Generation</th>\n      <th>Legendary</th>\n    </tr>\n  </thead>\n  <tbody>\n    <tr>\n      <th>0</th>\n      <td>1</td>\n      <td>Bulbasaur</td>\n      <td>Grass</td>\n      <td>Poison</td>\n      <td>45</td>\n      <td>49</td>\n      <td>49</td>\n      <td>65</td>\n      <td>65</td>\n      <td>45</td>\n      <td>1</td>\n      <td>False</td>\n    </tr>\n    <tr>\n      <th>1</th>\n      <td>2</td>\n      <td>Ivysaur</td>\n      <td>Grass</td>\n      <td>Poison</td>\n      <td>60</td>\n      <td>62</td>\n      <td>63</td>\n      <td>80</td>\n      <td>80</td>\n      <td>60</td>\n      <td>1</td>\n      <td>False</td>\n    </tr>\n    <tr>\n      <th>2</th>\n      <td>3</td>\n      <td>Venusaur</td>\n      <td>Grass</td>\n      <td>Poison</td>\n      <td>80</td>\n      <td>82</td>\n      <td>83</td>\n      <td>100</td>\n      <td>100</td>\n      <td>80</td>\n      <td>1</td>\n      <td>False</td>\n    </tr>\n    <tr>\n      <th>3</th>\n      <td>3</td>\n      <td>VenusaurMega Venusaur</td>\n      <td>Grass</td>\n      <td>Poison</td>\n      <td>80</td>\n      <td>100</td>\n      <td>123</td>\n      <td>122</td>\n      <td>120</td>\n      <td>80</td>\n      <td>1</td>\n      <td>False</td>\n    </tr>\n    <tr>\n      <th>4</th>\n      <td>4</td>\n      <td>Charmander</td>\n      <td>Fire</td>\n      <td>NaN</td>\n      <td>39</td>\n      <td>52</td>\n      <td>43</td>\n      <td>60</td>\n      <td>50</td>\n      <td>65</td>\n      <td>1</td>\n      <td>False</td>\n    </tr>\n    <tr>\n      <th>...</th>\n      <td>...</td>\n      <td>...</td>\n      <td>...</td>\n      <td>...</td>\n      <td>...</td>\n      <td>...</td>\n      <td>...</td>\n      <td>...</td>\n      <td>...</td>\n      <td>...</td>\n      <td>...</td>\n      <td>...</td>\n    </tr>\n    <tr>\n      <th>795</th>\n      <td>719</td>\n      <td>Diancie</td>\n      <td>Rock</td>\n      <td>Fairy</td>\n      <td>50</td>\n      <td>100</td>\n      <td>150</td>\n      <td>100</td>\n      <td>150</td>\n      <td>50</td>\n      <td>6</td>\n      <td>True</td>\n    </tr>\n    <tr>\n      <th>796</th>\n      <td>719</td>\n      <td>DiancieMega Diancie</td>\n      <td>Rock</td>\n      <td>Fairy</td>\n      <td>50</td>\n      <td>160</td>\n      <td>110</td>\n      <td>160</td>\n      <td>110</td>\n      <td>110</td>\n      <td>6</td>\n      <td>True</td>\n    </tr>\n    <tr>\n      <th>797</th>\n      <td>720</td>\n      <td>HoopaHoopa Confined</td>\n      <td>Psychic</td>\n      <td>Ghost</td>\n      <td>80</td>\n      <td>110</td>\n      <td>60</td>\n      <td>150</td>\n      <td>130</td>\n      <td>70</td>\n      <td>6</td>\n      <td>True</td>\n    </tr>\n    <tr>\n      <th>798</th>\n      <td>720</td>\n      <td>HoopaHoopa Unbound</td>\n      <td>Psychic</td>\n      <td>Dark</td>\n      <td>80</td>\n      <td>160</td>\n      <td>60</td>\n      <td>170</td>\n      <td>130</td>\n      <td>80</td>\n      <td>6</td>\n      <td>True</td>\n    </tr>\n    <tr>\n      <th>799</th>\n      <td>721</td>\n      <td>Volcanion</td>\n      <td>Fire</td>\n      <td>Water</td>\n      <td>80</td>\n      <td>110</td>\n      <td>120</td>\n      <td>130</td>\n      <td>90</td>\n      <td>70</td>\n      <td>6</td>\n      <td>True</td>\n    </tr>\n  </tbody>\n</table>\n<p>800 rows × 12 columns</p>\n</div>",
      "text/plain": "       #                   Name   Type 1  Type 2  HP  Attack  Defense  \\\n0      1              Bulbasaur    Grass  Poison  45      49       49   \n1      2                Ivysaur    Grass  Poison  60      62       63   \n2      3               Venusaur    Grass  Poison  80      82       83   \n3      3  VenusaurMega Venusaur    Grass  Poison  80     100      123   \n4      4             Charmander     Fire     NaN  39      52       43   \n..   ...                    ...      ...     ...  ..     ...      ...   \n795  719                Diancie     Rock   Fairy  50     100      150   \n796  719    DiancieMega Diancie     Rock   Fairy  50     160      110   \n797  720    HoopaHoopa Confined  Psychic   Ghost  80     110       60   \n798  720     HoopaHoopa Unbound  Psychic    Dark  80     160       60   \n799  721              Volcanion     Fire   Water  80     110      120   \n\n     Sp. Atk  Sp. Def  Speed  Generation  Legendary  \n0         65       65     45           1      False  \n1         80       80     60           1      False  \n2        100      100     80           1      False  \n3        122      120     80           1      False  \n4         60       50     65           1      False  \n..       ...      ...    ...         ...        ...  \n795      100      150     50           6       True  \n796      160      110    110           6       True  \n797      150      130     70           6       True  \n798      170      130     80           6       True  \n799      130       90     70           6       True  \n\n[800 rows x 12 columns]"
     },
     "execution_count": 59,
     "metadata": {},
     "output_type": "execute_result"
    }
   ],
   "source": [
    "df = df.drop(columns=['Total'])\n",
    "df"
   ]
  },
  {
   "cell_type": "code",
   "execution_count": 80,
   "metadata": {},
   "outputs": [
    {
     "data": {
      "text/html": "<div>\n<style scoped>\n    .dataframe tbody tr th:only-of-type {\n        vertical-align: middle;\n    }\n\n    .dataframe tbody tr th {\n        vertical-align: top;\n    }\n\n    .dataframe thead th {\n        text-align: right;\n    }\n</style>\n<table border=\"1\" class=\"dataframe\">\n  <thead>\n    <tr style=\"text-align: right;\">\n      <th></th>\n      <th>Name</th>\n      <th>HP</th>\n      <th>Attack</th>\n      <th>Defense</th>\n      <th>Speed</th>\n      <th>Total</th>\n    </tr>\n  </thead>\n  <tbody>\n    <tr>\n      <th>0</th>\n      <td>Bulbasaur</td>\n      <td>45</td>\n      <td>49</td>\n      <td>49</td>\n      <td>45</td>\n      <td>98</td>\n    </tr>\n    <tr>\n      <th>1</th>\n      <td>Ivysaur</td>\n      <td>60</td>\n      <td>62</td>\n      <td>63</td>\n      <td>60</td>\n      <td>125</td>\n    </tr>\n    <tr>\n      <th>2</th>\n      <td>Venusaur</td>\n      <td>80</td>\n      <td>82</td>\n      <td>83</td>\n      <td>80</td>\n      <td>165</td>\n    </tr>\n    <tr>\n      <th>3</th>\n      <td>VenusaurMega Venusaur</td>\n      <td>80</td>\n      <td>100</td>\n      <td>123</td>\n      <td>80</td>\n      <td>223</td>\n    </tr>\n    <tr>\n      <th>4</th>\n      <td>Charmander</td>\n      <td>39</td>\n      <td>52</td>\n      <td>43</td>\n      <td>65</td>\n      <td>95</td>\n    </tr>\n    <tr>\n      <th>...</th>\n      <td>...</td>\n      <td>...</td>\n      <td>...</td>\n      <td>...</td>\n      <td>...</td>\n      <td>...</td>\n    </tr>\n    <tr>\n      <th>795</th>\n      <td>Diancie</td>\n      <td>50</td>\n      <td>100</td>\n      <td>150</td>\n      <td>50</td>\n      <td>250</td>\n    </tr>\n    <tr>\n      <th>796</th>\n      <td>DiancieMega Diancie</td>\n      <td>50</td>\n      <td>160</td>\n      <td>110</td>\n      <td>110</td>\n      <td>270</td>\n    </tr>\n    <tr>\n      <th>797</th>\n      <td>HoopaHoopa Confined</td>\n      <td>80</td>\n      <td>110</td>\n      <td>60</td>\n      <td>70</td>\n      <td>170</td>\n    </tr>\n    <tr>\n      <th>798</th>\n      <td>HoopaHoopa Unbound</td>\n      <td>80</td>\n      <td>160</td>\n      <td>60</td>\n      <td>80</td>\n      <td>220</td>\n    </tr>\n    <tr>\n      <th>799</th>\n      <td>Volcanion</td>\n      <td>80</td>\n      <td>110</td>\n      <td>120</td>\n      <td>70</td>\n      <td>230</td>\n    </tr>\n  </tbody>\n</table>\n<p>800 rows × 6 columns</p>\n</div>",
      "text/plain": "                      Name  HP  Attack  Defense  Speed  Total\n0                Bulbasaur  45      49       49     45     98\n1                  Ivysaur  60      62       63     60    125\n2                 Venusaur  80      82       83     80    165\n3    VenusaurMega Venusaur  80     100      123     80    223\n4               Charmander  39      52       43     65     95\n..                     ...  ..     ...      ...    ...    ...\n795                Diancie  50     100      150     50    250\n796    DiancieMega Diancie  50     160      110    110    270\n797    HoopaHoopa Confined  80     110       60     70    170\n798     HoopaHoopa Unbound  80     160       60     80    220\n799              Volcanion  80     110      120     70    230\n\n[800 rows x 6 columns]"
     },
     "execution_count": 80,
     "metadata": {},
     "output_type": "execute_result"
    }
   ],
   "source": [
    "list(df.columns.values)[2:3]\n",
    "df = df[['Name', 'HP', 'Attack', 'Defense', 'Speed', 'Total']]\n",
    "df"
   ]
  },
  {
   "cell_type": "code",
   "execution_count": 85,
   "metadata": {},
   "outputs": [
    {
     "name": "stdout",
     "output_type": "stream",
     "text": "Integration.ipynb\nfortune500.csv\njupyter_test.ipynb\npandas_tutorial.ipynb\npokemon_data.csv\npokemon_data_modfiy.csv\n"
    }
   ],
   "source": [
    "%%bash\n",
    "ls"
   ]
  },
  {
   "cell_type": "code",
   "execution_count": 84,
   "metadata": {},
   "outputs": [],
   "source": [
    "df.to_csv('pokemon_data_modfiy.csv',  sindex=False)"
   ]
  },
  {
   "cell_type": "code",
   "execution_count": null,
   "metadata": {},
   "outputs": [],
   "source": []
  }
 ]
}