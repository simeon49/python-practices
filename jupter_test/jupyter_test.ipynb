{
 "cells": [
  {
   "cell_type": "code",
   "execution_count": null,
   "metadata": {},
   "outputs": [],
   "source": [
    "import pandas as pd\n",
    "import matplotlib.pyplot as  plt\n",
    "import seaborn as sns\n",
    "\n",
    "sns.set(style='darkgrid')\n",
    "df = pd.read_csv('./fortune500.csv')\n",
    "df.columns = ['year', 'rank', 'company', 'revenue', 'profit']\n",
    "non_numberic_profits = df.profit.str.contains('[^0-9.-]')\n",
    "# df.loc[non_numberic_profits].head()\n",
    "# set(df.profit[non_numberic_profits])\n",
    "df = df.loc[~non_numberic_profits]\n",
    "df.profit = df.profit.apply(pd.to_numeric)\n",
    "bin_sizes, _, _ = plt.hist(df.year, bins=range(1955, 2006))"
   ]
  },
  {
   "cell_type": "code",
   "execution_count": null,
   "metadata": {},
   "outputs": [],
   "source": [
    "group_by_year = df.loc[:, ['year', 'revenue', 'profit']].groupby('year')\n",
    "avgs = group_by_year.mean()\n",
    "x = avgs.index\n",
    "y1 = avgs.profit\n",
    "def plot(x, y, ax, title, y_label):\n",
    "    ax.set_title(title)\n",
    "    ax.set_ylabel(y_label)\n",
    "    ax.plot(x, y)\n",
    "    ax.margins(x=0, y=0)\n",
    "fig, ax = plt.subplots()\n",
    "plot(x, y1, ax, 'Increase in mean Fortune 500 company profits from 1955 to 2005', 'Profit(millions)')"
   ]
  },
  {
   "cell_type": "code",
   "execution_count": null,
   "metadata": {},
   "outputs": [],
   "source": [
    "y2 = avgs.revenue\n",
    "fig, ax = plt.subplots()\n",
    "plot(x, y2, ax, 'Increase in mean Fortune 500 company profits from 1955 to 2005', 'Revenue(millions)')"
   ]
  },
  {
   "cell_type": "code",
   "execution_count": null,
   "metadata": {},
   "outputs": [],
   "source": [
    "def plot_with_std(x, y, stds, ax, title, y_label):\n",
    "    ax.fill_between(x, y - stds, y + stds, alpha=0.2)\n",
    "    plot(x, y, ax, title, y_label)\n",
    "fig, (ax1, ax2) = plt.subplots(ncols=2)\n",
    "title = 'Increase in mean and std Fortune 500 company %s from 1955 to 2005'\n",
    "stds1 = group_by_year.std().profit.values\n",
    "stds2 = group_by_year.std().revenue.values\n",
    "plot_with_std(x, y1.values, stds1, ax1, title % 'profits', 'Profit (millions)')\n",
    "plot_with_std(x, y2.values, stds2, ax2, title % 'revenues', 'Revenue (millions)')\n",
    "fig.set_size_inches(14, 4)\n",
    "fig.tight_layout()"
   ]
  },
  {
   "cell_type": "code",
   "execution_count": null,
   "metadata": {},
   "outputs": [],
   "source": [
    "%%HTML\n",
    "<iframe width=\"560\" height=\"315\" src=\"https://www.youtube.com/embed/YJC6ldI3hWk\" frameborder=\"2\" allowfullscreen></iframe>\n"
   ]
  },
  {
   "cell_type": "code",
   "execution_count": null,
   "metadata": {},
   "outputs": [],
   "source": [
    "%%timeit\n",
    "square_evens = [n*n for n in range(1000)]"
   ]
  },
  {
   "cell_type": "code",
   "execution_count": 35,
   "metadata": {},
   "outputs": [
    {
     "data": {
      "text/html": "<div>\n<style scoped>\n    .dataframe tbody tr th:only-of-type {\n        vertical-align: middle;\n    }\n\n    .dataframe tbody tr th {\n        vertical-align: top;\n    }\n\n    .dataframe thead th {\n        text-align: right;\n    }\n</style>\n<table border=\"1\" class=\"dataframe\">\n  <thead>\n    <tr style=\"text-align: right;\">\n      <th></th>\n      <th>0</th>\n      <th>1</th>\n      <th>2</th>\n      <th>3</th>\n      <th>4</th>\n    </tr>\n  </thead>\n  <tbody>\n    <tr>\n      <th>0</th>\n      <td>1.181340</td>\n      <td>-0.300243</td>\n      <td>-0.526993</td>\n      <td>-0.769629</td>\n      <td>0.535435</td>\n    </tr>\n    <tr>\n      <th>1</th>\n      <td>0.344684</td>\n      <td>-0.988817</td>\n      <td>-1.883451</td>\n      <td>-1.126490</td>\n      <td>0.270700</td>\n    </tr>\n    <tr>\n      <th>2</th>\n      <td>0.495931</td>\n      <td>-0.354869</td>\n      <td>1.473733</td>\n      <td>-0.132573</td>\n      <td>3.012018</td>\n    </tr>\n    <tr>\n      <th>3</th>\n      <td>-0.405539</td>\n      <td>-0.495326</td>\n      <td>0.653509</td>\n      <td>-0.218767</td>\n      <td>-0.933803</td>\n    </tr>\n    <tr>\n      <th>4</th>\n      <td>1.401230</td>\n      <td>-0.906019</td>\n      <td>0.687400</td>\n      <td>1.639674</td>\n      <td>0.190229</td>\n    </tr>\n    <tr>\n      <th>5</th>\n      <td>-0.018606</td>\n      <td>0.125465</td>\n      <td>1.211637</td>\n      <td>-0.145312</td>\n      <td>-0.095329</td>\n    </tr>\n    <tr>\n      <th>6</th>\n      <td>0.337982</td>\n      <td>1.636158</td>\n      <td>-2.182709</td>\n      <td>-0.683381</td>\n      <td>-1.782382</td>\n    </tr>\n    <tr>\n      <th>7</th>\n      <td>0.352519</td>\n      <td>1.652135</td>\n      <td>-0.337736</td>\n      <td>0.243043</td>\n      <td>0.139102</td>\n    </tr>\n    <tr>\n      <th>8</th>\n      <td>1.522555</td>\n      <td>-1.419501</td>\n      <td>-1.048940</td>\n      <td>0.467285</td>\n      <td>-1.185012</td>\n    </tr>\n    <tr>\n      <th>9</th>\n      <td>-0.252587</td>\n      <td>-0.420474</td>\n      <td>1.372657</td>\n      <td>-0.330722</td>\n      <td>0.790398</td>\n    </tr>\n  </tbody>\n</table>\n</div>",
      "text/plain": "          0         1         2         3         4\n0  1.181340 -0.300243 -0.526993 -0.769629  0.535435\n1  0.344684 -0.988817 -1.883451 -1.126490  0.270700\n2  0.495931 -0.354869  1.473733 -0.132573  3.012018\n3 -0.405539 -0.495326  0.653509 -0.218767 -0.933803\n4  1.401230 -0.906019  0.687400  1.639674  0.190229\n5 -0.018606  0.125465  1.211637 -0.145312 -0.095329\n6  0.337982  1.636158 -2.182709 -0.683381 -1.782382\n7  0.352519  1.652135 -0.337736  0.243043  0.139102\n8  1.522555 -1.419501 -1.048940  0.467285 -1.185012\n9 -0.252587 -0.420474  1.372657 -0.330722  0.790398"
     },
     "execution_count": 35,
     "metadata": {},
     "output_type": "execute_result"
    }
   ],
   "source": [
    "import  pandas as pd\n",
    "import numpy as np\n",
    "df = pd.DataFrame(np.random.randn(10, 5))\n",
    "df\n"
   ]
  },
  {
   "cell_type": "code",
   "execution_count": 44,
   "metadata": {},
   "outputs": [
    {
     "name": "stdout",
     "output_type": "stream",
     "text": "fortune500.csv\njupyter_test.ipynb\n"
    }
   ],
   "source": [
    "%%bash\n",
    "ls"
   ]
  },
  {
   "cell_type": "code",
   "execution_count": 45,
   "metadata": {},
   "outputs": [
    {
     "name": "stderr",
     "output_type": "stream",
     "text": "UsageError: %%capture is a cell magic, but the cell body is empty.\n"
    }
   ],
   "source": [
    "%%capture\n"
   ]
  },
  {
   "cell_type": "code",
   "execution_count": null,
   "metadata": {},
   "outputs": [],
   "source": []
  }
 ],
 "metadata": {
  "kernelspec": {
   "display_name": "Python 3",
   "language": "python",
   "name": "python3"
  },
  "language_info": {
   "codemirror_mode": {
    "name": "ipython",
    "version": 3
   },
   "file_extension": ".py",
   "mimetype": "text/x-python",
   "name": "python",
   "nbconvert_exporter": "python",
   "pygments_lexer": "ipython3",
   "version": "3.7.5-final"
  }
 },
 "nbformat": 4,
 "nbformat_minor": 4
}